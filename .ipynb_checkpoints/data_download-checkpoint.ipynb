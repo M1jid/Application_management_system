{
 "cells": [
  {
   "cell_type": "code",
   "execution_count": null,
   "id": "3f6265bf",
   "metadata": {},
   "outputs": [
    {
     "name": "stderr",
     "output_type": "stream",
     "text": [
      "C:\\Users\\itel\\AppData\\Local\\Temp\\ipykernel_11960\\2128428467.py:15: DeprecationWarning: headless property is deprecated, instead use add_argument('-headless')\n",
      "  options.headless= True\n",
      "C:\\Users\\itel\\AppData\\Local\\Temp\\ipykernel_11960\\2128428467.py:16: DeprecationWarning: Firefox will soon stop logging to geckodriver.log by default; Specify desired logs with log_output\n",
      "  service= Service( executable_path= './geckodriver.exe')\n"
     ]
    }
   ],
   "source": [
    "import time\n",
    "import import_ipynb\n",
    "import random\n",
    "from selenium import webdriver \n",
    "from selenium.webdriver.common.keys import  Keys\n",
    "from selenium.webdriver.firefox.service import Service\n",
    "from selenium.webdriver.common.by import By\n",
    "from selenium.webdriver.support.ui import WebDriverWait\n",
    "from selenium.webdriver.support import expected_conditions as EC\n",
    "\n",
    "from bs4 import BeautifulSoup\n",
    "\n",
    "#web_driver options\n",
    "options= webdriver.FirefoxOptions()\n",
    "options.headless= True\n",
    "service= Service( executable_path= './geckodriver.exe')\n",
    "driver= webdriver.Firefox( service= service)\n",
    "\n",
    "\n",
    "#url site\n",
    "driver.get('https://ticketing.hesabrayan.com/Visitor/ViewArticle/ViewArticleList.aspx?request%3d1x4FA3aKV4RwwOTUkcfZKyhdRp7qjTWHwr75hB5HolYVb8Sg36qs%2f%2fZu5BaB8I6B')\n",
    "time.sleep(5)\n",
    "\n",
    "driver.find_element('xpath','//select[@name=\"ctl00$ContentPlaceHolder1$ucSearchArticle1$cmbPageSize\"]').click()\n",
    "time.sleep(2)\n",
    "driver.find_element('xpath','//option[@value=\"200\"]').click()\n",
    "time.sleep(2)\n",
    "\n",
    "responses = []\n",
    "questions = []\n",
    "categoris = []\n",
    "\n",
    "a = 71\n",
    "for i in range(200):\n",
    "    lblblues = driver.find_elements('xpath','//span[@class=\"lblblue\"]')\n",
    "    lblblues[a].click()\n",
    "    a += 1\n",
    "    time.sleep(20)\n",
    "#     test = driver.find_element('xpath', '//td[@valign=\"top\"]')\n",
    "    soup = BeautifulSoup(driver.page_source, \"html.parser\")\n",
    "    ques = soup.find('div',attrs={'class':\"newsTitle\"})\n",
    "    ques = ques.get_text()\n",
    "    \n",
    "    res = soup.find('div',attrs={'class':\"news_template newsApercu\"})\n",
    "    res = res.get_text()\n",
    "    \n",
    "    cate = soup.find('span',attrs={'id':\"ContentPlaceHolder1_ucViewArticle1_lblCategory\"})\n",
    "    cate = cate.get_text()\n",
    "    \n",
    "    categoris.append(cate)\n",
    "    responses.append(res)\n",
    "    questions.append(ques)\n",
    "    \n",
    "    driver.back()\n",
    "\n",
    "\n",
    "    "
   ]
  },
  {
   "cell_type": "code",
   "execution_count": 84,
   "id": "daa51b06",
   "metadata": {},
   "outputs": [],
   "source": [
    "import pandas as pd"
   ]
  },
  {
   "cell_type": "code",
   "execution_count": 87,
   "id": "ee9808b9",
   "metadata": {},
   "outputs": [],
   "source": [
    "categoris = pd.DataFrame(categoris)\n",
    "responses = pd.DataFrame(responses)\n",
    "questions = pd.DataFrame(questions)"
   ]
  },
  {
   "cell_type": "code",
   "execution_count": 92,
   "id": "8278157f",
   "metadata": {},
   "outputs": [],
   "source": [
    "data = pd.concat([categoris, responses, questions], axis=1)"
   ]
  },
  {
   "cell_type": "code",
   "execution_count": 94,
   "id": "3087d9bb",
   "metadata": {},
   "outputs": [],
   "source": [
    "data.columns = ['categoris', 'responses', 'questions']"
   ]
  },
  {
   "cell_type": "code",
   "execution_count": 99,
   "id": "b99adea0",
   "metadata": {},
   "outputs": [],
   "source": [
    "data.to_csv('C:/Users/itel/data.csv', encoding='utf16')"
   ]
  }
 ],
 "metadata": {
  "kernelspec": {
   "display_name": "Python 3 (ipykernel)",
   "language": "python",
   "name": "python3"
  },
  "language_info": {
   "codemirror_mode": {
    "name": "ipython",
    "version": 3
   },
   "file_extension": ".py",
   "mimetype": "text/x-python",
   "name": "python",
   "nbconvert_exporter": "python",
   "pygments_lexer": "ipython3",
   "version": "3.10.13"
  }
 },
 "nbformat": 4,
 "nbformat_minor": 5
}
