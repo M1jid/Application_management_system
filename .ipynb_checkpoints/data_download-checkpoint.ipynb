{
 "cells": [
  {
   "cell_type": "code",
   "execution_count": null,
   "id": "3f6265bf",
   "metadata": {},
   "outputs": [],
   "source": [
    "import time\n",
    "import import_ipynb\n",
    "import random\n",
    "import pandas as pd\n",
    "from selenium import webdriver \n",
    "from selenium.webdriver.common.keys import  Keys\n",
    "from selenium.webdriver.firefox.service import Service\n",
    "from selenium.webdriver.common.by import By\n",
    "from selenium.webdriver.support.ui import WebDriverWait\n",
    "from selenium.webdriver.support import expected_conditions as EC\n",
    "\n",
    "from bs4 import BeautifulSoup\n",
    "\n",
    "#web_driver options\n",
    "options= webdriver.FirefoxOptions()\n",
    "options.headless= True\n",
    "service= Service( executable_path= './geckodriver.exe')\n",
    "driver= webdriver.Firefox( service= service)\n",
    "\n",
    "\n",
    "#url site\n",
    "driver.get('https://ticketing.hesabrayan.com/Visitor/ViewArticle/ViewArticleList.aspx?request%3d1x4FA3aKV4RwwOTUkcfZKyhdRp7qjTWHwr75hB5HolYVb8Sg36qs%2f%2fZu5BaB8I6B')\n",
    "\n",
    "#sleep for load page\n",
    "time.sleep(5)\n",
    "\n",
    "# 200 first data\n",
    "driver.find_element('xpath','//select[@name=\"ctl00$ContentPlaceHolder1$ucSearchArticle1$cmbPageSize\"]').click()\n",
    "driver.find_element('xpath','//option[@value=\"200\"]').click()\n",
    "time.sleep(5)\n",
    "\n",
    "responses = []\n",
    "questions = []\n",
    "categoris = []\n",
    "\n",
    "\n",
    "for i in range(200):\n",
    "    time.sleep(3)\n",
    "    lblblues = driver.find_elements('xpath','//span[@class=\"lblblue\"]')\n",
    "    time.sleep(2)\n",
    "    lblblues[i].click()\n",
    "\n",
    "    time.sleep(15)\n",
    "    soup = BeautifulSoup(driver.page_source, \"html.parser\")\n",
    "    time.sleep(2)\n",
    "    \n",
    "    ques = soup.find('div',attrs={'class':\"newsTitle\"})\n",
    "    ques = ques.get_text()\n",
    "    \n",
    "    res = soup.find('div',attrs={'class':\"news_template newsApercu\"})\n",
    "    res = res.get_text()\n",
    "    \n",
    "    cate = soup.find('span',attrs={'id':\"ContentPlaceHolder1_ucViewArticle1_lblCategory\"})\n",
    "    cate = cate.get_text()\n",
    "    \n",
    "    categoris.append(cate)\n",
    "    responses.append(res)\n",
    "    questions.append(ques)\n",
    "    \n",
    "    driver.back()\n"
   ]
  },
  {
   "cell_type": "code",
   "execution_count": 15,
   "id": "ee9808b9",
   "metadata": {},
   "outputs": [],
   "source": [
    "categoris = pd.DataFrame(categoris)\n",
    "responses = pd.DataFrame(responses)\n",
    "questions = pd.DataFrame(questions)"
   ]
  },
  {
   "cell_type": "code",
   "execution_count": 16,
   "id": "8278157f",
   "metadata": {},
   "outputs": [],
   "source": [
    "data = pd.concat([categoris, responses, questions], axis=1)"
   ]
  },
  {
   "cell_type": "code",
   "execution_count": 17,
   "id": "3087d9bb",
   "metadata": {},
   "outputs": [],
   "source": [
    "data.columns = ['categoris', 'responses', 'questions']"
   ]
  },
  {
   "cell_type": "code",
   "execution_count": 18,
   "id": "b99adea0",
   "metadata": {},
   "outputs": [],
   "source": [
    "data.to_csv('C:/Users/itel/data2.csv', encoding='utf16')"
   ]
  }
 ],
 "metadata": {
  "kernelspec": {
   "display_name": "Python 3 (ipykernel)",
   "language": "python",
   "name": "python3"
  },
  "language_info": {
   "codemirror_mode": {
    "name": "ipython",
    "version": 3
   },
   "file_extension": ".py",
   "mimetype": "text/x-python",
   "name": "python",
   "nbconvert_exporter": "python",
   "pygments_lexer": "ipython3",
   "version": "3.10.13"
  }
 },
 "nbformat": 4,
 "nbformat_minor": 5
}
