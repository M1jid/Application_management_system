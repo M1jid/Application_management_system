{
 "cells": [
  {
   "cell_type": "code",
   "execution_count": 3,
   "id": "3f6265bf",
   "metadata": {},
   "outputs": [
    {
     "name": "stderr",
     "output_type": "stream",
     "text": [
      "C:\\Users\\itel\\AppData\\Local\\Temp\\ipykernel_10008\\3705303363.py:15: DeprecationWarning: headless property is deprecated, instead use add_argument('-headless')\n",
      "  options.headless= True\n",
      "C:\\Users\\itel\\AppData\\Local\\Temp\\ipykernel_10008\\3705303363.py:16: DeprecationWarning: Firefox will soon stop logging to geckodriver.log by default; Specify desired logs with log_output\n",
      "  service= Service( executable_path= './geckodriver.exe')\n"
     ]
    },
    {
     "ename": "KeyboardInterrupt",
     "evalue": "",
     "output_type": "error",
     "traceback": [
      "\u001b[1;31m---------------------------------------------------------------------------\u001b[0m",
      "\u001b[1;31mKeyboardInterrupt\u001b[0m                         Traceback (most recent call last)",
      "Cell \u001b[1;32mIn[3], line 38\u001b[0m\n\u001b[0;32m     35\u001b[0m     lblblues \u001b[38;5;241m=\u001b[39m driver\u001b[38;5;241m.\u001b[39mfind_elements(\u001b[38;5;124m'\u001b[39m\u001b[38;5;124mxpath\u001b[39m\u001b[38;5;124m'\u001b[39m,\u001b[38;5;124m'\u001b[39m\u001b[38;5;124m//span[@class=\u001b[39m\u001b[38;5;124m\"\u001b[39m\u001b[38;5;124mlblblue\u001b[39m\u001b[38;5;124m\"\u001b[39m\u001b[38;5;124m]\u001b[39m\u001b[38;5;124m'\u001b[39m)\n\u001b[0;32m     36\u001b[0m     lblblues[i]\u001b[38;5;241m.\u001b[39mclick()\n\u001b[1;32m---> 38\u001b[0m     \u001b[43mtime\u001b[49m\u001b[38;5;241;43m.\u001b[39;49m\u001b[43msleep\u001b[49m\u001b[43m(\u001b[49m\u001b[38;5;241;43m60\u001b[39;49m\u001b[43m)\u001b[49m\n\u001b[0;32m     39\u001b[0m \u001b[38;5;66;03m#     test = driver.find_element('xpath', '//td[@valign=\"top\"]')\u001b[39;00m\n\u001b[0;32m     40\u001b[0m     soup \u001b[38;5;241m=\u001b[39m BeautifulSoup(driver\u001b[38;5;241m.\u001b[39mpage_source, \u001b[38;5;124m\"\u001b[39m\u001b[38;5;124mhtml.parser\u001b[39m\u001b[38;5;124m\"\u001b[39m)\n",
      "\u001b[1;31mKeyboardInterrupt\u001b[0m: "
     ]
    }
   ],
   "source": [
    "import time\n",
    "import import_ipynb\n",
    "import random\n",
    "from selenium import webdriver \n",
    "from selenium.webdriver.common.keys import  Keys\n",
    "from selenium.webdriver.firefox.service import Service\n",
    "from selenium.webdriver.common.by import By\n",
    "from selenium.webdriver.support.ui import WebDriverWait\n",
    "from selenium.webdriver.support import expected_conditions as EC\n",
    "\n",
    "from bs4 import BeautifulSoup\n",
    "\n",
    "#web_driver options\n",
    "options= webdriver.FirefoxOptions()\n",
    "options.headless= True\n",
    "service= Service( executable_path= './geckodriver.exe')\n",
    "driver= webdriver.Firefox( service= service)\n",
    "\n",
    "\n",
    "#url site\n",
    "driver.get('https://ticketing.hesabrayan.com/Visitor/ViewArticle/ViewArticleList.aspx?request%3d1x4FA3aKV4RwwOTUkcfZKyhdRp7qjTWHwr75hB5HolYVb8Sg36qs%2f%2fZu5BaB8I6B')\n",
    "time.sleep(5)\n",
    "\n",
    "driver.find_element('xpath','//select[@name=\"ctl00$ContentPlaceHolder1$ucSearchArticle1$cmbPageSize\"]').click()\n",
    "time.sleep(2)\n",
    "driver.find_element('xpath','//option[@value=\"2000\"]').click()\n",
    "time.sleep(2)\n",
    "\n",
    "responses = []\n",
    "questions = []\n",
    "categoris = []\n",
    "\n",
    "\n",
    "for i in range(1436):\n",
    "    lblblues = driver.find_elements('xpath','//span[@class=\"lblblue\"]')\n",
    "    lblblues[i].click()\n",
    "\n",
    "    time.sleep(60)\n",
    "#     test = driver.find_element('xpath', '//td[@valign=\"top\"]')\n",
    "    soup = BeautifulSoup(driver.page_source, \"html.parser\")\n",
    "    ques = soup.find('div',attrs={'class':\"newsTitle\"})\n",
    "    ques = ques.get_text()\n",
    "    \n",
    "    res = soup.find('div',attrs={'class':\"news_template newsApercu\"})\n",
    "    res = res.get_text()\n",
    "    \n",
    "    cate = soup.find('span',attrs={'id':\"ContentPlaceHolder1_ucViewArticle1_lblCategory\"})\n",
    "    cate = cate.get_text()\n",
    "    \n",
    "    categoris.append(cate)\n",
    "    responses.append(res)\n",
    "    questions.append(ques)\n",
    "    \n",
    "    driver.back()\n",
    "\n",
    "\n",
    "    "
   ]
  },
  {
   "cell_type": "code",
   "execution_count": 84,
   "id": "daa51b06",
   "metadata": {},
   "outputs": [],
   "source": [
    "import pandas as pd"
   ]
  },
  {
   "cell_type": "code",
   "execution_count": 87,
   "id": "ee9808b9",
   "metadata": {},
   "outputs": [],
   "source": [
    "categoris = pd.DataFrame(categoris)\n",
    "responses = pd.DataFrame(responses)\n",
    "questions = pd.DataFrame(questions)"
   ]
  },
  {
   "cell_type": "code",
   "execution_count": 92,
   "id": "8278157f",
   "metadata": {},
   "outputs": [],
   "source": [
    "data = pd.concat([categoris, responses, questions], axis=1)"
   ]
  },
  {
   "cell_type": "code",
   "execution_count": 94,
   "id": "3087d9bb",
   "metadata": {},
   "outputs": [],
   "source": [
    "data.columns = ['categoris', 'responses', 'questions']"
   ]
  },
  {
   "cell_type": "code",
   "execution_count": 99,
   "id": "b99adea0",
   "metadata": {},
   "outputs": [],
   "source": [
    "data.to_csv('C:/Users/itel/data.csv', encoding='utf16')"
   ]
  }
 ],
 "metadata": {
  "kernelspec": {
   "display_name": "Python 3 (ipykernel)",
   "language": "python",
   "name": "python3"
  },
  "language_info": {
   "codemirror_mode": {
    "name": "ipython",
    "version": 3
   },
   "file_extension": ".py",
   "mimetype": "text/x-python",
   "name": "python",
   "nbconvert_exporter": "python",
   "pygments_lexer": "ipython3",
   "version": "3.10.13"
  }
 },
 "nbformat": 4,
 "nbformat_minor": 5
}
